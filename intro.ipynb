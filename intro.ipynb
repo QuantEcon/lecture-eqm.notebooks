{
 "cells": [
  {
   "cell_type": "markdown",
   "id": "3ffa7e8c",
   "metadata": {},
   "source": [
    "# Equilibrium Models\n",
    "\n",
    "This website presents a set of lectures on equilibrium economic models."
   ]
  },
  {
   "cell_type": "markdown",
   "id": "41b99101",
   "metadata": {},
   "source": [
    "# Multiple Agent Models\n",
    "\n",
    "- [Uncertainty Traps](https://eqm.quantecon.org/uncertainty_traps.html)\n",
    "- [The Aiyagari Model](https://eqm.quantecon.org/aiyagari.html)\n",
    "- [Default Risk and Income Fluctuations](https://eqm.quantecon.org/arellano.html)\n",
    "- [Globalization and Cycles](https://eqm.quantecon.org/matsuyama.html)\n",
    "- [Coase’s Theory of the Firm](https://eqm.quantecon.org/coase.html)"
   ]
  },
  {
   "cell_type": "markdown",
   "id": "5163f6e2",
   "metadata": {},
   "source": [
    "# Auctions & Other Applications\n",
    "\n",
    "- [First-Price and Second-Price Auctions](https://eqm.quantecon.org/two_auctions.html)\n",
    "- [Multiple Good Allocation Mechanisms](https://eqm.quantecon.org/house_auction.html)"
   ]
  },
  {
   "cell_type": "markdown",
   "id": "6f14f9bb",
   "metadata": {},
   "source": [
    "# Rational Expectation Models\n",
    "\n",
    "- [Cass-Koopmans Model](https://eqm.quantecon.org/cass_koopmans_1.html)\n",
    "- [Cass-Koopmans Competitive Equilibrium](https://eqm.quantecon.org/cass_koopmans_2.html)\n",
    "- [Rational Expectations Equilibrium](https://eqm.quantecon.org/rational_expectations.html)\n",
    "- [Stability in Linear Rational Expectations Models](https://eqm.quantecon.org/re_with_feedback.html)\n",
    "- [Markov Perfect Equilibrium](https://eqm.quantecon.org/markov_perf.html)\n",
    "- [Knowing the Forecasts of Others](https://eqm.quantecon.org/knowing_forecasts_of_others.html)"
   ]
  },
  {
   "cell_type": "markdown",
   "id": "72f58cdc",
   "metadata": {},
   "source": [
    "# Other\n",
    "\n",
    "- [Troubleshooting](https://eqm.quantecon.org/troubleshooting.html)\n",
    "- [References](https://eqm.quantecon.org/zreferences.html)\n",
    "- [Execution Statistics](https://eqm.quantecon.org/status.html)"
   ]
  }
 ],
 "metadata": {
  "date": 1708319632.1413865,
  "filename": "intro.md",
  "kernelspec": {
   "display_name": "Python",
   "language": "python3",
   "name": "python3"
  },
  "title": "Equilibrium Models"
 },
 "nbformat": 4,
 "nbformat_minor": 5
}