{
 "cells": [
  {
   "cell_type": "markdown",
   "id": "67cb64d0",
   "metadata": {},
   "source": [
    "# Execution Statistics\n",
    "\n",
    "This table contains the latest execution statistics.\n",
    "\n",
    "[](https://eqm.quantecon.org/aiyagari.html)[](https://eqm.quantecon.org/arellano.html)[](https://eqm.quantecon.org/cass_koopmans_1.html)[](https://eqm.quantecon.org/cass_koopmans_2.html)[](https://eqm.quantecon.org/coase.html)[](https://eqm.quantecon.org/house_auction.html)[](https://eqm.quantecon.org/intro.html)[](https://eqm.quantecon.org/knowing_forecasts_of_others.html)[](https://eqm.quantecon.org/markov_perf.html)[](https://eqm.quantecon.org/matsuyama.html)[](https://eqm.quantecon.org/rational_expectations.html)[](https://eqm.quantecon.org/re_with_feedback.html)[](https://eqm.quantecon.org/.html)[](https://eqm.quantecon.org/troubleshooting.html)[](https://eqm.quantecon.org/two_auctions.html)[](https://eqm.quantecon.org/uncertainty_traps.html)[](https://eqm.quantecon.org/zreferences.html)|Document|Modified|Method|Run Time (s)|Status|\n",
    "|:------------------:|:------------------:|:------------------:|:------------------:|:------------------:|\n",
    "|aiyagari|2024-01-30 02:45|cache|17.61|✅|\n",
    "|arellano|2024-01-30 02:47|cache|82.1|✅|\n",
    "|cass_koopmans_1|2024-01-30 02:47|cache|7.05|✅|\n",
    "|cass_koopmans_2|2024-01-30 02:47|cache|6.21|✅|\n",
    "|coase|2024-01-30 02:47|cache|8.61|✅|\n",
    "|house_auction|2024-01-30 02:47|cache|4.98|✅|\n",
    "|intro|2024-01-30 02:47|cache|0.94|✅|\n",
    "|knowing_forecasts_of_others|2024-01-30 02:48|cache|31.08|✅|\n",
    "|markov_perf|2024-01-30 02:48|cache|5.98|✅|\n",
    "|matsuyama|2024-01-30 03:28|cache|2406.77|✅|\n",
    "|rational_expectations|2024-01-30 03:28|cache|5.51|✅|\n",
    "|re_with_feedback|2024-01-30 03:28|cache|8.63|✅|\n",
    "|status|2024-01-30 02:47|cache|0.94|✅|\n",
    "|troubleshooting|2024-01-30 02:47|cache|0.94|✅|\n",
    "|two_auctions|2024-01-30 03:28|cache|13.95|✅|\n",
    "|uncertainty_traps|2024-01-30 03:28|cache|2.27|✅|\n",
    "|zreferences|2024-01-30 02:47|cache|0.94|✅|\n",
    "\n",
    "<a id='status-machine-details'></a>\n",
    "These lectures are built on `linux` instances through `github actions` so are\n",
    "executed using the following [hardware specifications](https://docs.github.com/en/actions/reference/specifications-for-github-hosted-runners#supported-runners-and-hardware-resources)"
   ]
  }
 ],
 "metadata": {
  "date": 1706585844.4706583,
  "filename": "status.md",
  "kernelspec": {
   "display_name": "Python",
   "language": "python3",
   "name": "python3"
  },
  "title": "Execution Statistics"
 },
 "nbformat": 4,
 "nbformat_minor": 5
}