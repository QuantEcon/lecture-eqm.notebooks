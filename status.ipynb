{
 "cells": [
  {
   "cell_type": "markdown",
   "id": "fa9dd287",
   "metadata": {},
   "source": [
    "# Execution Statistics\n",
    "\n",
    "This table contains the latest execution statistics.\n",
    "\n",
    "[](https://eqm.quantecon.org/aiyagari.html)[](https://eqm.quantecon.org/arellano.html)[](https://eqm.quantecon.org/cass_koopmans_1.html)[](https://eqm.quantecon.org/cass_koopmans_2.html)[](https://eqm.quantecon.org/coase.html)[](https://eqm.quantecon.org/house_auction.html)[](https://eqm.quantecon.org/intro.html)[](https://eqm.quantecon.org/knowing_forecasts_of_others.html)[](https://eqm.quantecon.org/markov_perf.html)[](https://eqm.quantecon.org/matsuyama.html)[](https://eqm.quantecon.org/rational_expectations.html)[](https://eqm.quantecon.org/re_with_feedback.html)[](https://eqm.quantecon.org/.html)[](https://eqm.quantecon.org/troubleshooting.html)[](https://eqm.quantecon.org/two_auctions.html)[](https://eqm.quantecon.org/uncertainty_traps.html)[](https://eqm.quantecon.org/zreferences.html)|Document|Modified|Method|Run Time (s)|Status|\n",
    "|:------------------:|:------------------:|:------------------:|:------------------:|:------------------:|\n",
    "|aiyagari|2024-05-01 00:15|cache|15.62|✅|\n",
    "|arellano|2024-05-01 00:17|cache|82.62|✅|\n",
    "|cass_koopmans_1|2024-05-01 00:17|cache|6.83|✅|\n",
    "|cass_koopmans_2|2024-05-01 00:17|cache|6.03|✅|\n",
    "|coase|2024-05-01 00:17|cache|9.82|✅|\n",
    "|house_auction|2024-05-01 00:17|cache|4.25|✅|\n",
    "|intro|2024-05-01 00:17|cache|0.97|✅|\n",
    "|knowing_forecasts_of_others|2024-05-01 00:19|cache|91.69|✅|\n",
    "|markov_perf|2024-05-01 00:19|cache|5.57|✅|\n",
    "|matsuyama|2024-05-01 00:59|cache|2406.79|✅|\n",
    "|rational_expectations|2024-05-01 00:59|cache|4.9|✅|\n",
    "|re_with_feedback|2024-05-01 00:59|cache|8.36|✅|\n",
    "|status|2024-05-01 00:17|cache|0.97|✅|\n",
    "|troubleshooting|2024-05-01 00:17|cache|0.97|✅|\n",
    "|two_auctions|2024-05-01 00:59|cache|14.49|✅|\n",
    "|uncertainty_traps|2024-05-01 01:00|cache|2.51|✅|\n",
    "|zreferences|2024-05-01 00:17|cache|0.97|✅|\n",
    "\n",
    "<a id='status-machine-details'></a>\n",
    "These lectures are built on `linux` instances through `github actions` so are\n",
    "executed using the following [hardware specifications](https://docs.github.com/en/actions/reference/specifications-for-github-hosted-runners#supported-runners-and-hardware-resources)"
   ]
  }
 ],
 "metadata": {
  "date": 1714699148.8209364,
  "filename": "status.md",
  "kernelspec": {
   "display_name": "Python",
   "language": "python3",
   "name": "python3"
  },
  "title": "Execution Statistics"
 },
 "nbformat": 4,
 "nbformat_minor": 5
}