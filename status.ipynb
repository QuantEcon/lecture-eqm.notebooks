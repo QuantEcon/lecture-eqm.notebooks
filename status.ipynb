{
 "cells": [
  {
   "cell_type": "markdown",
   "id": "80d8c44d",
   "metadata": {},
   "source": [
    "# Execution Statistics\n",
    "\n",
    "This table contains the latest execution statistics.\n",
    "\n",
    "[](https://eqm.quantecon.org/aiyagari.html)[](https://eqm.quantecon.org/arellano.html)[](https://eqm.quantecon.org/cass_koopmans_1.html)[](https://eqm.quantecon.org/cass_koopmans_2.html)[](https://eqm.quantecon.org/coase.html)[](https://eqm.quantecon.org/house_auction.html)[](https://eqm.quantecon.org/intro.html)[](https://eqm.quantecon.org/knowing_forecasts_of_others.html)[](https://eqm.quantecon.org/markov_perf.html)[](https://eqm.quantecon.org/matsuyama.html)[](https://eqm.quantecon.org/rational_expectations.html)[](https://eqm.quantecon.org/re_with_feedback.html)[](https://eqm.quantecon.org/schelling.html)[](https://eqm.quantecon.org/.html)[](https://eqm.quantecon.org/troubleshooting.html)[](https://eqm.quantecon.org/two_auctions.html)[](https://eqm.quantecon.org/uncertainty_traps.html)[](https://eqm.quantecon.org/zreferences.html)|Document|Modified|Method|Run Time (s)|Status|\n",
    "|:------------------:|:------------------:|:------------------:|:------------------:|:------------------:|\n",
    "|aiyagari|2024-01-26 11:48|cache|18.9|✅|\n",
    "|arellano|2024-01-26 11:50|cache|82.87|✅|\n",
    "|cass_koopmans_1|2024-01-26 11:50|cache|7.48|✅|\n",
    "|cass_koopmans_2|2024-01-26 11:50|cache|6.65|✅|\n",
    "|coase|2024-01-26 11:50|cache|8.88|✅|\n",
    "|house_auction|2024-01-26 11:50|cache|5.18|✅|\n",
    "|intro|2024-01-26 11:50|cache|1.13|✅|\n",
    "|knowing_forecasts_of_others|2024-01-26 11:51|cache|31.09|✅|\n",
    "|markov_perf|2024-01-26 11:51|cache|6.22|✅|\n",
    "|matsuyama|2024-01-26 12:31|cache|2407.16|✅|\n",
    "|rational_expectations|2024-01-26 12:31|cache|5.62|✅|\n",
    "|re_with_feedback|2024-01-26 12:31|cache|8.85|✅|\n",
    "|schelling|2024-01-26 12:31|cache|2.16|✅|\n",
    "|status|2024-01-26 11:50|cache|1.13|✅|\n",
    "|troubleshooting|2024-01-26 11:50|cache|1.13|✅|\n",
    "|two_auctions|2024-01-26 12:31|cache|14.22|✅|\n",
    "|uncertainty_traps|2024-01-26 12:31|cache|2.44|✅|\n",
    "|zreferences|2024-01-26 11:50|cache|1.13|✅|\n",
    "\n",
    "<a id='status-machine-details'></a>\n",
    "These lectures are built on `linux` instances through `github actions` so are\n",
    "executed using the following [hardware specifications](https://docs.github.com/en/actions/reference/specifications-for-github-hosted-runners#supported-runners-and-hardware-resources)"
   ]
  }
 ],
 "metadata": {
  "date": 1706480859.4981685,
  "filename": "status.md",
  "kernelspec": {
   "display_name": "Python",
   "language": "python3",
   "name": "python3"
  },
  "title": "Execution Statistics"
 },
 "nbformat": 4,
 "nbformat_minor": 5
}